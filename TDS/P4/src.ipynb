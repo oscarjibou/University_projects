{
 "cells": [
  {
   "cell_type": "code",
   "execution_count": 1,
   "metadata": {},
   "outputs": [],
   "source": [
    "\n",
    "import sys\n",
    "import os\n",
    "import matplotlib.pyplot as plt\n",
    "import numpy as np\n",
    "import sounddevice as sd\n",
    "import scipy.signal as signal\n",
    "import librosa\n",
    "\n",
    "sys.path.append(\"/Users/oscarjimenezbou/Library/Mobile Documents/com~apple~CloudDocs/Documents/University_projects/TDS\"\n",
    "                )"
   ]
  },
  {
   "cell_type": "code",
   "execution_count": 2,
   "metadata": {},
   "outputs": [
    {
     "name": "stderr",
     "output_type": "stream",
     "text": [
      "/opt/anaconda3/envs/myenv/lib/python3.12/site-packages/pydub/utils.py:170: RuntimeWarning: Couldn't find ffmpeg or avconv - defaulting to ffmpeg, but may not work\n",
      "  warn(\"Couldn't find ffmpeg or avconv - defaulting to ffmpeg, but may not work\", RuntimeWarning)\n"
     ]
    }
   ],
   "source": [
    "# from utils import (\n",
    "#     number_count_detector,\n",
    "#     export_numbers,\n",
    "#     m4a_to_wav,\n",
    "# )\n",
    "from scipy.io import wavfile\n",
    "from utils import number_count_detector, convert_m4p_to_wav, export_numbers\n",
    "\n",
    "\n",
    "people = [\"oscar\"]\n",
    "numbers = (\n",
    "    \"cero\",\n",
    "    \"uno\",\n",
    "    \"dos\",\n",
    "    \"tres\",\n",
    "    \"cuatro\",\n",
    "    \"cinco\",\n",
    "    \"seis\",\n",
    "    \"siete\",\n",
    "    \"ocho\",\n",
    "    \"nueve\",\n",
    ")\n",
    "\n",
    "\n",
    "def _rename_final_audios():\n",
    "    for j, person in enumerate(people):\n",
    "        for audio in range(1, 5):\n",
    "            for i in range(0, 10):\n",
    "                print(\n",
    "                    f\"Renaming {person}_{audio}_{i}.wav to {numbers[i]}_{j}_{audio}.wav\"\n",
    "                )\n",
    "                os.rename(\n",
    "                    f\"/Users/carlosedm10/projects/college/TDS/P4/Final Audios/{person}_{audio}_{i}.wav\",\n",
    "                    f\"/Users/carlosedm10/projects/college/TDS/P4/Final Audios/{numbers[i]}_{j}_{audio}.wav\",\n",
    "                )"
   ]
  },
  {
   "cell_type": "code",
   "execution_count": 32,
   "metadata": {},
   "outputs": [
    {
     "ename": "NameError",
     "evalue": "name 'convert_m4p_to_wav' is not defined",
     "output_type": "error",
     "traceback": [
      "\u001b[0;31m---------------------------------------------------------------------------\u001b[0m",
      "\u001b[0;31mNameError\u001b[0m                                 Traceback (most recent call last)",
      "Cell \u001b[0;32mIn[32], line 7\u001b[0m\n\u001b[1;32m      4\u001b[0m         m4a_path \u001b[38;5;241m=\u001b[39m \u001b[38;5;124mf\u001b[39m\u001b[38;5;124m\"\u001b[39m\u001b[38;5;124m/Users/oscarjimenezbou/Library/Mobile Documents/com~apple~CloudDocs/Documents/University_projects/TDS/P4/\u001b[39m\u001b[38;5;132;01m{\u001b[39;00mperson\u001b[38;5;132;01m}\u001b[39;00m\u001b[38;5;124m.m4a\u001b[39m\u001b[38;5;124m\"\u001b[39m\n\u001b[1;32m      5\u001b[0m         wav_path \u001b[38;5;241m=\u001b[39m \u001b[38;5;124mf\u001b[39m\u001b[38;5;124m\"\u001b[39m\u001b[38;5;124m/Users/oscarjimenezbou/Library/Mobile Documents/com~apple~CloudDocs/Documents/University_projects/TDS/P4/\u001b[39m\u001b[38;5;132;01m{\u001b[39;00mperson\u001b[38;5;132;01m}\u001b[39;00m\u001b[38;5;124m.wav\u001b[39m\u001b[38;5;124m\"\u001b[39m\n\u001b[0;32m----> 7\u001b[0m         \u001b[43mconvert_m4p_to_wav\u001b[49m(m4a_path, wav_path)\n\u001b[1;32m      8\u001b[0m         \u001b[38;5;66;03m# audio_data, freq = wavfile.read(\"oscar.wav\")\u001b[39;00m\n\u001b[1;32m      9\u001b[0m \n\u001b[1;32m     10\u001b[0m         \u001b[38;5;66;03m# audio_data, freq, target_freq = convert_m4p_to_wav(m4a_path, wav_path)\u001b[39;00m\n\u001b[0;32m   (...)\u001b[0m\n\u001b[1;32m     42\u001b[0m \u001b[38;5;66;03m#         # )\u001b[39;00m\n\u001b[1;32m     43\u001b[0m \u001b[38;5;66;03m# # _rename_final_audios()\u001b[39;00m\n",
      "\u001b[0;31mNameError\u001b[0m: name 'convert_m4p_to_wav' is not defined"
     ]
    }
   ],
   "source": [
    "for person in people:\n",
    "    for audio in range(1, 5):\n",
    "        m4a_path = f\"/Users/oscarjimenezbou/Library/Mobile Documents/com~apple~CloudDocs/Documents/University_projects/TDS/P4/{person}.m4a\"\n",
    "        wav_path = f\"/Users/oscarjimenezbou/Library/Mobile Documents/com~apple~CloudDocs/Documents/University_projects/TDS/P4/{person}.wav\"\n",
    "\n",
    "        convert_m4p_to_wav(m4a_path, wav_path)\n",
    "        # audio_data, freq = wavfile.read(\"oscar.wav\")\n",
    "\n",
    "        # audio_data, freq, target_freq = convert_m4p_to_wav(m4a_path, wav_path)\n",
    "\n",
    "#         # print(f\"Person: {person} Audio: {audio} Freq: {target_freq}Hz\")\n",
    "\n",
    "#         window_size = 0.02  # 32ms\n",
    "#         window_overlap = 0  # No overlap\n",
    "\n",
    "#         voice = number_count_detector(\n",
    "#             audio_data,\n",
    "#             freq,\n",
    "#             window_size,\n",
    "#             window_overlap,\n",
    "#             count=10,\n",
    "#         )\n",
    "#         print(voice)\n",
    "#         # Plot the VAD\n",
    "#         plt.figure(figsize=(10, 6))\n",
    "#         plt.plot(audio_data, label=\"Audio Signal\")\n",
    "#         plt.plot(voice * np.max(audio_data), label=\"VAD\")\n",
    "#         plt.xlabel(\"Muestras (n)\")\n",
    "#         plt.ylabel(\"Amplitude\")\n",
    "#         plt.legend()\n",
    "#         plt.title(f\"{person} Voice Activity Detection {audio}\")\n",
    "#         plt.show()\n",
    "\n",
    "#         # # Export the audios:\n",
    "#         # export_numbers(\n",
    "#         #     audio_data,\n",
    "#         #     target_freq,\n",
    "#         #     voice,\n",
    "#         #     10,\n",
    "#         #     f\"/Users/carlosedm10/projects/college/TDS/P4/Final Audios/{person}_{audio}_\",\n",
    "#         # )\n",
    "# # _rename_final_audios()"
   ]
  }
 ],
 "metadata": {
  "kernelspec": {
   "display_name": "myenv",
   "language": "python",
   "name": "python3"
  },
  "language_info": {
   "codemirror_mode": {
    "name": "ipython",
    "version": 3
   },
   "file_extension": ".py",
   "mimetype": "text/x-python",
   "name": "python",
   "nbconvert_exporter": "python",
   "pygments_lexer": "ipython3",
   "version": "3.12.2"
  }
 },
 "nbformat": 4,
 "nbformat_minor": 2
}

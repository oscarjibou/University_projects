{
 "cells": [
  {
   "cell_type": "code",
   "execution_count": null,
   "metadata": {},
   "outputs": [],
   "source": [
    "from utils import (\n",
    "    number_count_detector,\n",
    "    export_numbers,\n",
    "    m4a_to_wav,\n",
    ")\n",
    "from matplotlib import pyplot as plt\n",
    "import sys\n",
    "import os\n",
    "import numpy as np\n",
    "import sounddevice as sd\n",
    "import scipy.signal as signal\n",
    "import librosa\n",
    "\n",
    "sys.path.append(\"/Users/carlosedm10/projects/college/TDS\")\n",
    "\n",
    "\n",
    "people = (\"Carlos\", \"María\", \"Mamá\")\n",
    "numbers = (\n",
    "    \"cero\",\n",
    "    \"uno\",\n",
    "    \"dos\",\n",
    "    \"tres\",\n",
    "    \"cuatro\",\n",
    "    \"cinco\",\n",
    "    \"seis\",\n",
    "    \"siete\",\n",
    "    \"ocho\",\n",
    "    \"nueve\",\n",
    ")\n",
    "\n",
    "\n",
    "def _rename_final_audios():\n",
    "    for j, person in enumerate(people):\n",
    "        for audio in range(1, 5):\n",
    "            for i in range(0, 10):\n",
    "                print(\n",
    "                    f\"Renaming {person}_{audio}_{i}.wav to {numbers[i]}_{j}_{audio}.wav\"\n",
    "                )\n",
    "                os.rename(\n",
    "                    f\"/Users/carlosedm10/projects/college/TDS/P4/Final Audios/{person}_{audio}_{i}.wav\",\n",
    "                    f\"/Users/carlosedm10/projects/college/TDS/P4/Final Audios/{numbers[i]}_{j}_{audio}.wav\",\n",
    "                )"
   ]
  }
 ],
 "metadata": {
  "kernelspec": {
   "display_name": "myenv",
   "language": "python",
   "name": "python3"
  },
  "language_info": {
   "name": "python",
   "version": "3.12.2"
  }
 },
 "nbformat": 4,
 "nbformat_minor": 2
}

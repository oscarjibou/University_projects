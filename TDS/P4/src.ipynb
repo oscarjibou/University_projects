{
 "cells": [
  {
   "cell_type": "code",
   "execution_count": null,
   "metadata": {},
   "outputs": [],
   "source": [
    "\n",
    "import sys\n",
    "import os\n",
    "import matplotlib.pyplot as plt\n",
    "import numpy as np\n",
    "import sounddevice as sd\n",
    "import scipy.signal as signal\n",
    "import librosa\n",
    "\n",
    "sys.path.append(\"/Users/oscarjimenezbou/Library/Mobile Documents/com~apple~CloudDocs/Documents/University_projects/TDS\"\n",
    "                )"
   ]
  },
  {
   "cell_type": "code",
   "execution_count": null,
   "metadata": {},
   "outputs": [],
   "source": [
    "from scipy.io import wavfile\n",
    "from utils import number_count_detector, convert_m4p_to_wav, export_numbers"
   ]
  },
  {
   "cell_type": "code",
   "execution_count": null,
   "metadata": {},
   "outputs": [],
   "source": [
    "people = [\"oscar\"]"
   ]
  },
  {
   "cell_type": "code",
   "execution_count": null,
   "metadata": {},
   "outputs": [],
   "source": [
    "%matplotlib widget\n",
    "for person in people:\n",
    "    freq, audio_data = wavfile.read(person + \".wav\")\n",
    "\n",
    "    # convert mono, normalize and change the frecuency to 16kHz\n",
    "    if len(audio_data.shape) > 1:\n",
    "        audio_data = audio_data[:, 0]  \n",
    "\n",
    "    audio_data = audio_data / np.max(np.abs(audio_data))  \n",
    "\n",
    "    audio_data = signal.resample(audio_data, int(\n",
    "        len(audio_data) * 16000 / freq))  \n",
    "\n",
    "    window_size = 0.02  # 32ms\n",
    "    window_overlap = 0  # No overlap\n",
    "\n",
    "    voice = number_count_detector(\n",
    "        audio_data,\n",
    "        16000,\n",
    "        window_size,\n",
    "        window_overlap,\n",
    "        count=10,\n",
    "    )\n",
    "\n",
    "    plt.figure(figsize=(10, 6))\n",
    "    plt.plot(audio_data)\n",
    "    plt.plot(voice * np.max(audio_data))\n",
    "    plt.xlabel(\"Muestras (n)\")\n",
    "    plt.ylabel(\"Amplitude\")\n",
    "    plt.title(\"Audio Signal\")\n",
    "    plt.show()"
   ]
  },
  {
   "cell_type": "code",
   "execution_count": null,
   "metadata": {},
   "outputs": [],
   "source": []
  }
 ],
 "metadata": {
  "kernelspec": {
   "display_name": "myenv",
   "language": "python",
   "name": "python3"
  },
  "language_info": {
   "codemirror_mode": {
    "name": "ipython",
    "version": 3
   },
   "file_extension": ".py",
   "mimetype": "text/x-python",
   "name": "python",
   "nbconvert_exporter": "python",
   "pygments_lexer": "ipython3",
   "version": "3.12.2"
  }
 },
 "nbformat": 4,
 "nbformat_minor": 2
}

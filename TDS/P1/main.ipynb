{
 "cells": [
  {
   "cell_type": "code",
   "execution_count": null,
   "metadata": {},
   "outputs": [],
   "source": [
    "import simpleaudio as sa\n",
    "import numpy as np\n",
    "import matplotlib.pyplot as plt\n",
    "from scipy.io import wavfile\n",
    "from scipy.signal import find_peaks"
   ]
  },
  {
   "cell_type": "code",
   "execution_count": null,
   "metadata": {},
   "outputs": [],
   "source": [
    "audios = {\n",
    "    'archivo_wav1': 'sound1.wav',\n",
    "    'archivo_wav2': 'sound2.wav',\n",
    "    'archivo_wav3': 'sound3.wav',\n",
    "    'archivo_wav4': 'sound4.wav',\n",
    "    'archivo_wav5': 'sound5.wav'\n",
    "}"
   ]
  },
  {
   "cell_type": "markdown",
   "metadata": {},
   "source": [
    "### Reproducimos el audio "
   ]
  },
  {
   "cell_type": "code",
   "execution_count": null,
   "metadata": {},
   "outputs": [],
   "source": [
    "# Load a wave file and play it\n",
    "# wave_obj = sa.WaveObject.from_wave_file(audios['archivo_wav1'])\n",
    "# play_obj = wave_obj.play()\n",
    "# play_obj.wait_done()"
   ]
  },
  {
   "cell_type": "markdown",
   "metadata": {},
   "source": [
    "### Representamos el wave file en tiempo continuo y discreto"
   ]
  },
  {
   "cell_type": "code",
   "execution_count": null,
   "metadata": {},
   "outputs": [],
   "source": [
    "for archivo_wav in audios.values():\n",
    "    frecuencia_muestreo, datos = wavfile.read(archivo_wav)\n",
    "\n",
    "    numero_muestras = np.arange(0, len(datos)) \n",
    "    tiempo_continuo = numero_muestras / frecuencia_muestreo\n",
    "    \n",
    "    print(f'plot the wave {archivo_wav}')\n",
    "    \n",
    "    datos = datos / (2.**15) # normalizar los datos a -1 a 1 \n",
    "\n",
    "    plt.figure(figsize=(12,6))\n",
    "    plt.plot(tiempo_continuo, datos)\n",
    "    plt.title('Señal de audio en tiempo continuo - {}'.format(archivo_wav))\n",
    "    plt.xlabel('Tiempo [s]')\n",
    "    plt.ylabel('Amplitud')\n",
    "    plt.show()\n",
    "    \n",
    "    plt.figure(figsize=(12, 6))\n",
    "    plt.stem(numero_muestras, datos)\n",
    "    plt.title('Señal de audio en tiempo discreto - {}'.format(archivo_wav))\n",
    "    plt.xlabel('Numero de muestras')\n",
    "    plt.ylabel('Amplitud')\n",
    "    plt.show()\n",
    "    \n",
    "    print(\"--------------------------------------------------------------------\")\n"
   ]
  },
  {
   "cell_type": "markdown",
   "metadata": {},
   "source": [
    "### Ejercicio 1.2\n",
    "\n",
    "Para los sonidos 1,2,3. Crea un vector que contenga un tramo de\n",
    "100ms de la señal correspondiente en donde aparezca sonido"
   ]
  },
  {
   "cell_type": "code",
   "execution_count": null,
   "metadata": {},
   "outputs": [],
   "source": [
    "# List of audio files\n",
    "tres_audios = {\n",
    "    'archivo_wav1': 'sound1.wav',\n",
    "    'archivo_wav2': 'sound2.wav',\n",
    "    'archivo_wav3': 'sound3.wav'\n",
    "}\n",
    "\n",
    "muestras_audios = {\n",
    "    'sound1.wav': 13800,\n",
    "    'sound2.wav': 11000,\n",
    "    'sound3.wav': 1000,\n",
    "    'sound4.wav': 17500,\n",
    "    'sound5.wav': 12300\n",
    "}\n",
    "\n",
    "for archivo_wav in tres_audios.values():\n",
    "# Get the sample rate and data\n",
    "    frecuencia_muestreo, datos = wavfile.read(archivo_wav)\n",
    "    \n",
    "    datos = datos / (2.**15) # normalizar los datos a -1 a 1\n",
    "\n",
    "    # Calculate how many samples are in 100ms\n",
    "    num_samples = int(frecuencia_muestreo * 0.1)\n",
    "\n",
    "    # Create a dictionary to store the samples\n",
    "    frame = datos[muestras_audios[archivo_wav]:muestras_audios[archivo_wav] + num_samples] # 100ms frame\n",
    "    \n",
    "    print(f'Plot the frame {archivo_wav}')\n",
    "    \n",
    "    #power\n",
    "    power = 1/len(datos) * np.sum(np.abs(datos)**2)\n",
    "    print(f' * potencia es: {power}')\n",
    "    \n",
    "    #energy\n",
    "    energy = np.sum(np.abs(datos**2))\n",
    "    print(f' * energia es: {energy}')\n",
    "    \n",
    "    tiempo = np.arange(0, len(frame)) / frecuencia_muestreo\n",
    "\n",
    "    plt.figure(figsize=(12, 6))\n",
    "    plt.plot(tiempo, frame)\n",
    "    plt.title('Frame de 100ms - {}'.format(archivo_wav))\n",
    "    plt.xlabel('Tiempo [s]')\n",
    "    plt.ylabel('Amplitud')\n",
    "    plt.show()\n",
    " \n",
    "    print(\"--------------------------------------------------------------------\")"
   ]
  },
  {
   "cell_type": "markdown",
   "metadata": {},
   "source": [
    "### Ejercicio 1.3 "
   ]
  },
  {
   "cell_type": "code",
   "execution_count": null,
   "metadata": {},
   "outputs": [],
   "source": [
    "for archivo_wav in tres_audios.values():\n",
    "    \n",
    "    # Get the sample rate and data\n",
    "    frecuencia_muestreo, datos = wavfile.read(archivo_wav)\n",
    "    \n",
    "    datos = datos / (2.**15) # normalizar los datos a -1 a 1\n",
    "    \n",
    "    #datos = datos / (2.**15) # normalizar los datos a -1 a 1\n",
    "    \n",
    "    L_frame = int(0.1 * frecuencia_muestreo) # 100ms\n",
    "    \n",
    "    frame = datos[muestras_audios[archivo_wav]:muestras_audios[archivo_wav] + L_frame] # 100ms frame\n",
    "    \n",
    "    print(f\"El vector tiene de {archivo_wav} tiene {len(datos)//L_frame} componentes\")\n",
    "\n",
    "    #haz vector energía que contenga L_frames de datos\n",
    "    energia = []\n",
    " \n",
    "    for i in range(0, len(datos), L_frame): #this is the same as range(0, len(datos), L_frame) \n",
    "        energia.append(np.sum(datos[i:(i+L_frame)]**2))\n",
    "\n",
    "    #tiempo = np.arange(0, len(energia_frame)) * L_frame / frecuencia_muestreo\n",
    "    tiempo = np.arange(len(energia)) * 0.1\n",
    "    \n",
    "    plt.figure(figsize=(12, 6))\n",
    "    plt.plot(tiempo, energia)\n",
    "    plt.title('Energía en el tiempo - {}'.format(archivo_wav))\n",
    "    plt.xlabel('Tiempo [s]')\n",
    "    plt.ylabel('Energía')\n",
    "    plt.show()\n",
    "    \n",
    "plt.figure(figsize=(12, 6))\n",
    "\n",
    "for archivo_wav in tres_audios.values():\n",
    "    # Get the sample rate and data\n",
    "    frecuencia_muestreo, datos = wavfile.read(archivo_wav)\n",
    "    \n",
    "    datos = datos / (2.**15) # normalizar los datos a -1 a 1\n",
    "    \n",
    "    L_frame = int(0.1 * frecuencia_muestreo) # 100ms\n",
    "    \n",
    "    frame = datos[muestras_audios[archivo_wav]:muestras_audios[archivo_wav] + L_frame] # 100ms frame\n",
    "\n",
    "    energia = []\n",
    " \n",
    "    for i in range(0, len(datos), L_frame): #this is the same as range(0, len(datos), L_frame) \n",
    "        energia.append(np.sum(datos[i:(i+L_frame)]**2))\n",
    "\n",
    "    tiempo = np.arange(len(energia)) * frecuencia_muestreo\n",
    "    \n",
    "    plt.plot(tiempo, energia, label=archivo_wav)\n",
    "\n",
    "plt.title('Energía en el tiempo')\n",
    "plt.xlabel('Muestras')\n",
    "plt.ylabel('Energía')\n",
    "plt.legend()\n",
    "plt.show()"
   ]
  },
  {
   "cell_type": "markdown",
   "metadata": {},
   "source": [
    "### Ejercicio 1.4"
   ]
  },
  {
   "cell_type": "code",
   "execution_count": 240,
   "metadata": {},
   "outputs": [
    {
     "data": {
      "image/png": "[encoded data removed]",
      "text/plain": [
       "<Figure size 1200x600 with 1 Axes>"
      ]
     },
     "metadata": {},
     "output_type": "display_data"
    }
   ],
   "source": [
    "tres_nuevos_audios = {\n",
    "    'archivo_wav1': 'sound1.wav',\n",
    "    'archivo_wav4': 'sound4.wav',\n",
    "    'archivo_wav5': 'sound5.wav'\n",
    "}\n",
    "\n",
    "plt.figure(figsize=(12, 6))\n",
    "\n",
    "for archivo_wav in tres_nuevos_audios.values():\n",
    "    \n",
    "    frecuencia_muestreo, datos = wavfile.read(archivo_wav)\n",
    "    \n",
    "    datos = datos / (2.**15) # normalizar los datos a -1 a 1\n",
    "    \n",
    "    L_frame = int(0.02 * frecuencia_muestreo) \n",
    "    overlap = int(L_frame * 0.5)\n",
    "    \n",
    "    #print(f\"El vector tiene de {archivo_wav} tiene {len(datos)//(L_frame-overlap)} componentes\")\n",
    "    \n",
    "    energia = []\n",
    "    \n",
    "    for i in range(len(datos)//(L_frame-overlap)):\n",
    "        start = i * (L_frame - overlap)\n",
    "        end = start + L_frame\n",
    "        frame = datos[start:end]\n",
    "        energia.append(np.sum(frame**2))\n",
    "    \n",
    "    tiempo = np.arange(len(energia)) * (L_frame - overlap) / frecuencia_muestreo\n",
    "    \n",
    "    plt.plot(tiempo, energia)\n",
    "    \n",
    "plt.title('Energía en el tiempo - {}'.format(archivo_wav))\n",
    "plt.xlabel('Tiempo [s]')\n",
    "plt.ylabel('Energía')\n",
    "plt.show()"
   ]
  }
 ],
 "metadata": {
  "kernelspec": {
   "display_name": "venv",
   "language": "python",
   "name": "python3"
  },
  "language_info": {
   "codemirror_mode": {
    "name": "ipython",
    "version": 3
   },
   "file_extension": ".py",
   "mimetype": "text/x-python",
   "name": "python",
   "nbconvert_exporter": "python",
   "pygments_lexer": "ipython3",
   "version": "3.9.6"
  }
 },
 "nbformat": 4,
 "nbformat_minor": 2
}

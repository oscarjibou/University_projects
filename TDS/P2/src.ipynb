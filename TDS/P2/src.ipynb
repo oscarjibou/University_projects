{
 "cells": [
  {
   "cell_type": "markdown",
   "metadata": {},
   "source": [
    "### Librerías"
   ]
  },
  {
   "cell_type": "code",
   "execution_count": null,
   "metadata": {},
   "outputs": [],
   "source": [
    "\n",
    "import matplotlib.pyplot as plt\n",
    "# %matplotlib widget"
   ]
  },
  {
   "cell_type": "code",
   "execution_count": null,
   "metadata": {},
   "outputs": [],
   "source": [
    "import sys\n",
    "\n",
    "import simpleaudio as sa\n",
    "import numpy as np\n",
    "\n",
    "\n",
    "sys.path.append(\n",
    "    \"/Users/oscarjimenezbou/Library/Mobile Documents/com~apple~CloudDocs/Documents/University_projects/TDS\"\n",
    ")"
   ]
  },
  {
   "cell_type": "code",
   "execution_count": null,
   "metadata": {},
   "outputs": [],
   "source": [
    "from utils import continuous_time_plot, discrete_time_plot\n",
    "from scipy.io import wavfile"
   ]
  },
  {
   "cell_type": "markdown",
   "metadata": {},
   "source": [
    "### Ejercicio 2.1\n",
    "- Representar señal en tiempo discreto y continuo \n",
    "- calcular la energía por tramas y representarla "
   ]
  },
  {
   "cell_type": "code",
   "execution_count": null,
   "metadata": {},
   "outputs": [],
   "source": [
    "mi_voz_fn = \"soundOscar.wav\"\n",
    "\n",
    "# plot the signal in the time domain continous and discrete\n",
    "frecuencia, mi_voz = wavfile.read(mi_voz_fn)\n",
    "\n",
    "# Change to mono\n",
    "if len(mi_voz.shape) > 1:\n",
    "    mi_voz = mi_voz.mean(axis=1)\n",
    "\n",
    "# obtain the time vector\n",
    "tiempo_continuo = np.arange(0, len(mi_voz) / frecuencia, 1 / frecuencia)\n",
    "\n",
    "# normalize the signal with the maximum value\n",
    "mi_voz = mi_voz / np.max(np.abs(mi_voz))\n",
    "\n",
    "# plot the signal in continuous and discrete time\n",
    "continuous_time_plot(\n",
    "    tiempo_continuo, mi_voz, variable_name=\"Señal en el dominio del tiempo continuo\"\n",
    ")\n",
    "\n",
    "discrete_time_plot(\n",
    "    mi_voz, variable_name=\"Señal en el dominio del tiempo discreto\"\n",
    ")\n",
    "\n",
    "# calculate the energy of the signal each 20ms\n",
    "energy = []\n",
    "for i in range(0, len(mi_voz), int(0.02 * frecuencia)):\n",
    "    energy.append(np.sum(mi_voz[i: i + int(0.02 * frecuencia)] ** 2))\n",
    "\n",
    "# normalize the energy\n",
    "energy = energy / np.max(energy)\n",
    "\n",
    "# plot the energy of the signal each 20ms in the time domain\n",
    "tiempo_energia = np.arange(0, len(energy) * 0.02, 0.02)\n",
    "continuous_time_plot(\n",
    "    tiempo_energia, energy, variable_name=\"Energía de la señal cada 20ms\"\n",
    ")\n",
    "\n",
    "# %matplotlib inline"
   ]
  },
  {
   "cell_type": "markdown",
   "metadata": {},
   "source": [
    "### Ejercicio 2.2\n",
    "- vector T_limites con inicio y fin de cada dígito en segundos"
   ]
  },
  {
   "cell_type": "code",
   "execution_count": null,
   "metadata": {},
   "outputs": [],
   "source": []
  }
 ],
 "metadata": {
  "kernelspec": {
   "display_name": "myenvbunker",
   "language": "python",
   "name": "python3"
  },
  "language_info": {
   "codemirror_mode": {
    "name": "ipython",
    "version": 3
   },
   "file_extension": ".py",
   "mimetype": "text/x-python",
   "name": "python",
   "nbconvert_exporter": "python",
   "pygments_lexer": "ipython3",
   "version": "3.12.2"
  }
 },
 "nbformat": 4,
 "nbformat_minor": 2
}

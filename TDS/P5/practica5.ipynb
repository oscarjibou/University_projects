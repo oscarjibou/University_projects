{
 "cells": [
  {
   "cell_type": "code",
   "execution_count": 2,
   "id": "76e5d625-6ba0-44e4-8e7b-b2eaceddf7a6",
   "metadata": {},
   "outputs": [],
   "source": [
    "import scipy\n",
    "from scipy.io import loadmat\n",
    "import matplotlib.pyplot as plt"
   ]
  },
  {
   "cell_type": "code",
   "execution_count": null,
   "id": "cc65642f-675b-4903-9f25-c21450842e24",
   "metadata": {},
   "outputs": [],
   "source": []
  },
  {
   "cell_type": "code",
   "execution_count": 3,
   "id": "19b6020e-c7a7-4a38-bf4f-aad3cde0915d",
   "metadata": {},
   "outputs": [],
   "source": [
    "dataset_train = loadmat('train_spanish_2022_python.mat')\n",
    "dataset_validation = loadmat('validation_spanish_2022_python.mat')"
   ]
  },
  {
   "cell_type": "code",
   "execution_count": 4,
   "id": "599c4c2a-6974-406e-9b24-fcfc5d2c9e76",
   "metadata": {},
   "outputs": [
    {
     "data": {
      "text/plain": [
       "dict_keys(['__header__', '__version__', '__globals__', 'features_train', 'labels_train_int'])"
      ]
     },
     "execution_count": 4,
     "metadata": {},
     "output_type": "execute_result"
    }
   ],
   "source": [
    "dataset_train.keys()"
   ]
  },
  {
   "cell_type": "code",
   "execution_count": 5,
   "id": "518512f7-5d7d-4b2c-9c1d-b975e885c29c",
   "metadata": {},
   "outputs": [
    {
     "data": {
      "text/plain": [
       "(11554, 1)"
      ]
     },
     "execution_count": 5,
     "metadata": {},
     "output_type": "execute_result"
    }
   ],
   "source": [
    "dataset_train['labels_train_int'].shape"
   ]
  },
  {
   "cell_type": "code",
   "execution_count": 6,
   "id": "2098223f-fc41-497d-ace6-cb266bb71e5f",
   "metadata": {},
   "outputs": [],
   "source": [
    "Xtrain = dataset_train['features_train']\n",
    "Ytrain = dataset_train['labels_train_int'].flatten()"
   ]
  },
  {
   "cell_type": "code",
   "execution_count": 7,
   "id": "7b0a3841-6b79-4c61-a6d8-5c22e7f8f54c",
   "metadata": {},
   "outputs": [
    {
     "data": {
      "text/plain": [
       "dict_keys(['__header__', '__version__', '__globals__', 'features_validation', 'labels_validation_int'])"
      ]
     },
     "execution_count": 7,
     "metadata": {},
     "output_type": "execute_result"
    }
   ],
   "source": [
    "dataset_validation.keys()"
   ]
  },
  {
   "cell_type": "code",
   "execution_count": 8,
   "id": "bca93d3b-0a1d-4962-b3de-0929fcdc0b9c",
   "metadata": {},
   "outputs": [],
   "source": [
    "Xval = dataset_validation['features_validation']\n",
    "Yval = dataset_validation['labels_validation_int'].flatten()"
   ]
  },
  {
   "cell_type": "markdown",
   "id": "a2f1e096-3681-41bd-b58a-64ddb93b7811",
   "metadata": {},
   "source": [
    "# Normalizacion"
   ]
  },
  {
   "cell_type": "code",
   "execution_count": 9,
   "id": "12de1ec0-2e98-4d9a-a081-807f704954f8",
   "metadata": {},
   "outputs": [],
   "source": [
    "m = Xtrain.mean(axis=0, keepdims=True)\n",
    "s = Xtrain.std(axis=0, keepdims=True)\n",
    "\n",
    "Xtrain_norm = (Xtrain - m) / s\n",
    "Xval_norm = (Xval - m) / s"
   ]
  },
  {
   "cell_type": "code",
   "execution_count": 10,
   "id": "d1859091-535e-4e6a-bd7b-61830f8f5734",
   "metadata": {},
   "outputs": [
    {
     "data": {
      "text/plain": [
       "(1, 85)"
      ]
     },
     "execution_count": 10,
     "metadata": {},
     "output_type": "execute_result"
    }
   ],
   "source": [
    "m.shape"
   ]
  },
  {
   "cell_type": "markdown",
   "id": "854e982e-7261-41e7-9e0a-db758a41e01c",
   "metadata": {},
   "source": [
    "# Create dataset"
   ]
  },
  {
   "cell_type": "code",
   "execution_count": 11,
   "id": "17438fc2-b15a-4014-9324-1746109cee80",
   "metadata": {},
   "outputs": [],
   "source": [
    "import torch\n",
    "from torch.utils.data import TensorDataset, DataLoader\n",
    "\n",
    "\n",
    "# Convert lists to tensors\n",
    "Xtrain_tensor = torch.tensor(Xtrain_norm, dtype=torch.float32)\n",
    "Ytrain_tensor = torch.tensor(Ytrain, dtype=torch.long)\n",
    "\n",
    "Xval_tensor = torch.tensor(Xval_norm, dtype=torch.float32)\n",
    "Yval_tensor = torch.tensor(Yval, dtype=torch.long)\n",
    "\n",
    "# Create TensorDataset\n",
    "train_dataset = TensorDataset(Xtrain_tensor, Ytrain_tensor)\n",
    "val_dataset = TensorDataset(Xval_tensor, Yval_tensor)\n",
    "# Create DataLoader"
   ]
  },
  {
   "cell_type": "code",
   "execution_count": null,
   "id": "7e6de9cd-f46e-40c6-be10-5807ee8abb0b",
   "metadata": {},
   "outputs": [],
   "source": []
  },
  {
   "cell_type": "code",
   "execution_count": null,
   "id": "9d3affed-d163-46bc-a093-7067be21e633",
   "metadata": {},
   "outputs": [],
   "source": []
  },
  {
   "cell_type": "code",
   "execution_count": null,
   "id": "dac132ef-28f2-4b5a-b653-4ea6cd3e48e5",
   "metadata": {},
   "outputs": [],
   "source": []
  },
  {
   "cell_type": "markdown",
   "id": "cec43b32-f613-4a4e-b1af-67c4a8285233",
   "metadata": {},
   "source": [
    "# Primera red"
   ]
  },
  {
   "cell_type": "code",
   "execution_count": 12,
   "id": "fea1aee5-c493-4863-87fb-3971cbe891bb",
   "metadata": {},
   "outputs": [],
   "source": [
    "import torch\n",
    "from torch import nn"
   ]
  },
  {
   "cell_type": "code",
   "execution_count": 13,
   "id": "71166b74-d272-4c56-b6f0-e9babaf4976c",
   "metadata": {},
   "outputs": [],
   "source": [
    "class Red(nn.Sequential):\n",
    "    def __init__(self, input_dim=85, hidden_dim=[4,], out_dim=10, dropout=0.0):\n",
    "        assert len(hidden_dim) > 0, \"at least one hidden layer\"\n",
    "        layers = []\n",
    "        # first layer\n",
    "        layers.append(nn.Linear(input_dim, hidden_dim[0]))\n",
    "        layers.append(nn.BatchNorm1d(hidden_dim[0]))\n",
    "        if dropout > 0.0:\n",
    "            layers.append(nn.Dropout(dropout))\n",
    "        layers.append(nn.ReLU(inplace=True))\n",
    "\n",
    "        if len(hidden_dim) > 1:\n",
    "            for k in range(1, len(hidden_dim)):\n",
    "                layers.append(nn.Linear(hidden_dim[k-1], hidden_dim[k]))\n",
    "                layers.append(nn.BatchNorm1d(hidden_dim[k]))\n",
    "                layers.append(nn.Dropout(dropout))\n",
    "                layers.append(nn.ReLU(inplace=True))\n",
    "        layers.append(nn.Linear(hidden_dim[-1], out_dim))\n",
    "        super().__init__(*layers)"
   ]
  },
  {
   "cell_type": "code",
   "execution_count": null,
   "id": "ed51afcd-4274-4ae6-839b-bdfcee8f6a47",
   "metadata": {},
   "outputs": [],
   "source": []
  },
  {
   "cell_type": "markdown",
   "id": "2e92c88a-e69a-42e2-945f-a98ac6c154ff",
   "metadata": {},
   "source": [
    "# Training loop"
   ]
  },
  {
   "cell_type": "code",
   "execution_count": 14,
   "id": "14707f81-ce61-4243-99a6-6529016a597c",
   "metadata": {},
   "outputs": [],
   "source": [
    "def train_epoch(network, loss_fn, dataloader, optimizer, device='cpu'):\n",
    "    # Set the network to train mode\n",
    "    network.to(device)\n",
    "    network.train()\n",
    "\n",
    "    # Initialize variables to keep track of loss and number of batches\n",
    "    epoch_loss = 0.0\n",
    "    num_batches = 0\n",
    "    epoch_correct = 0.0\n",
    "    num_samples = 0\n",
    "\n",
    "    # Iterate over the data loader\n",
    "    for batch_inputs, batch_targets in dataloader:\n",
    "        # Move data to the appropriate device (e.g., GPU)\n",
    "        batch_inputs = batch_inputs.to(device)\n",
    "        batch_targets = batch_targets.to(device)\n",
    "\n",
    "        # Zero the gradients\n",
    "        optimizer.zero_grad()\n",
    "\n",
    "        # Forward pass\n",
    "        batch_outputs = network(batch_inputs)\n",
    "\n",
    "        # Compute the loss\n",
    "        loss = loss_fn(batch_outputs, batch_targets)\n",
    "\n",
    "        # Backward pass\n",
    "        loss.backward()\n",
    "\n",
    "        # Update the parameters\n",
    "        optimizer.step()\n",
    "\n",
    "        # Accumulate the loss\n",
    "        epoch_loss += loss.item()\n",
    "        num_batches += 1\n",
    "\n",
    "       # Calculate the number of correct predictions in the batch\n",
    "        _, predicted = torch.max(batch_outputs, 1)\n",
    "        epoch_correct += (predicted == batch_targets).sum().item()\n",
    "        num_samples += batch_targets.size(0)\n",
    "\n",
    "    # Calculate the average loss for the epoch\n",
    "    average_loss = epoch_loss / num_batches\n",
    "\n",
    "    # Calculate the accuracy for the epoch\n",
    "    accuracy = epoch_correct / num_samples\n",
    "\n",
    "    return average_loss, accuracy"
   ]
  },
  {
   "cell_type": "code",
   "execution_count": 15,
   "id": "78b65361-b8c7-4a6c-8b54-4a7fdaf3fd85",
   "metadata": {},
   "outputs": [],
   "source": [
    "def validate_epoch(network, loss_fn, dataloader, device='cpu'):\n",
    "    # Set the network to evaluation mode\n",
    "    network.to(device)\n",
    "    network.eval()\n",
    "\n",
    "    # Initialize variables to keep track of loss and number of batches\n",
    "    epoch_loss = 0.0\n",
    "    num_batches = 0\n",
    "    epoch_correct = 0.0\n",
    "    num_samples = 0\n",
    "\n",
    "    # Turn off gradients\n",
    "    with torch.no_grad():\n",
    "        # Iterate over the data loader\n",
    "        for batch_inputs, batch_targets in dataloader:\n",
    "            # Move data to the appropriate device (e.g., GPU)\n",
    "            batch_inputs = batch_inputs.to(device)\n",
    "            batch_targets = batch_targets.to(device)\n",
    "\n",
    "            # Forward pass\n",
    "            batch_outputs = network(batch_inputs)\n",
    "\n",
    "            # Compute the loss\n",
    "            loss = loss_fn(batch_outputs, batch_targets)\n",
    "\n",
    "            # Accumulate the loss\n",
    "            epoch_loss += loss.item()\n",
    "            num_batches += 1\n",
    "\n",
    "            # Calculate the number of correct predictions in the batch\n",
    "            _, predicted = torch.max(batch_outputs, 1)\n",
    "            epoch_correct += (predicted == batch_targets).sum().item()\n",
    "            num_samples += batch_targets.size(0)\n",
    "\n",
    "    # Calculate the average loss for the epoch\n",
    "    average_loss = epoch_loss / num_batches\n",
    "\n",
    "    # Calculate the accuracy for the epoch\n",
    "    accuracy = epoch_correct / num_samples\n",
    "\n",
    "    return average_loss, accuracy"
   ]
  },
  {
   "cell_type": "code",
   "execution_count": 16,
   "id": "bd369170-3ae8-4e00-8cc7-2b2b7dc89b20",
   "metadata": {},
   "outputs": [],
   "source": [
    "from tqdm import tqdm\n",
    "\n",
    "\n",
    "def train(network, loss_fn, train_dataloader, val_dataloader, optimizer, num_epochs, device='cpu'):\n",
    "    train_losses = []\n",
    "    val_losses = []\n",
    "    val_acc = []\n",
    "    train_acc = []\n",
    "\n",
    "    best_val_acc = 0.0\n",
    "    best_epoch = -1\n",
    "\n",
    "    # Initialize tqdm for progress tracking\n",
    "    progress_bar = tqdm(range(num_epochs), desc='Training Progress')\n",
    "\n",
    "    for epoch in progress_bar:\n",
    "        # Training phase\n",
    "        train_loss, train_accuracy = train_epoch(\n",
    "            network, loss_fn, train_dataloader, optimizer, device=device)\n",
    "        train_losses.append(train_loss)\n",
    "        train_acc.append(train_accuracy)\n",
    "        # Validation phase\n",
    "        val_loss, val_accuracy = validate_epoch(\n",
    "            network, loss_fn, val_dataloader, device=device)\n",
    "        val_losses.append(val_loss)\n",
    "        val_acc.append(val_accuracy)\n",
    "\n",
    "        if val_accuracy > best_val_acc:\n",
    "            best_val_acc = val_accuracy\n",
    "            best_epoch = epoch\n",
    "            print(f\"Best val acc {best_val_acc:.3f} at epoch {epoch}\")\n",
    "        # Print the loss for each epoch\n",
    "        # print(f'Epoch {epoch+1}/{num_epochs}, Train Loss: {train_loss:.4f},Val Loss: {val_loss:.4f} Val Acc: {accuracy:.4f}')\n",
    "\n",
    "        # Update tqdm progress bar\n",
    "        progress_bar.set_postfix({'Train Loss': train_loss, 'Val Loss': val_loss,\n",
    "                                 'Train Acc': train_accuracy, 'Val Acc': val_accuracy})\n",
    "    return train_losses, val_losses, train_acc, val_acc"
   ]
  },
  {
   "cell_type": "code",
   "execution_count": 17,
   "id": "e71d7e8f-6447-41b1-af59-a6de31859a04",
   "metadata": {},
   "outputs": [
    {
     "name": "stderr",
     "output_type": "stream",
     "text": [
      "Training Progress:   1%|▏         | 2/150 [00:00<00:13, 11.02it/s, Train Loss=1.7, Val Loss=1.52, Train Acc=0.369, Val Acc=0.501] "
     ]
    },
    {
     "name": "stdout",
     "output_type": "stream",
     "text": [
      "Best val acc 0.277 at epoch 0\n",
      "Best val acc 0.377 at epoch 1\n",
      "Best val acc 0.421 at epoch 2\n",
      "Best val acc 0.501 at epoch 3\n"
     ]
    },
    {
     "name": "stderr",
     "output_type": "stream",
     "text": [
      "Training Progress:   5%|▌         | 8/150 [00:00<00:08, 17.05it/s, Train Loss=1.42, Val Loss=1.17, Train Acc=0.487, Val Acc=0.628]"
     ]
    },
    {
     "name": "stdout",
     "output_type": "stream",
     "text": [
      "Best val acc 0.563 at epoch 4\n",
      "Best val acc 0.604 at epoch 5\n",
      "Best val acc 0.639 at epoch 6\n"
     ]
    },
    {
     "name": "stderr",
     "output_type": "stream",
     "text": [
      "Training Progress:   7%|▋         | 11/150 [00:00<00:07, 19.13it/s, Train Loss=1.33, Val Loss=1.09, Train Acc=0.5, Val Acc=0.649] "
     ]
    },
    {
     "name": "stdout",
     "output_type": "stream",
     "text": [
      "Best val acc 0.646 at epoch 8\n",
      "Best val acc 0.654 at epoch 9\n",
      "Best val acc 0.661 at epoch 11\n"
     ]
    },
    {
     "name": "stderr",
     "output_type": "stream",
     "text": [
      "Training Progress:  11%|█▏        | 17/150 [00:00<00:06, 19.95it/s, Train Loss=1.3, Val Loss=1.04, Train Acc=0.524, Val Acc=0.65]  "
     ]
    },
    {
     "name": "stdout",
     "output_type": "stream",
     "text": [
      "Best val acc 0.670 at epoch 14\n"
     ]
    },
    {
     "name": "stderr",
     "output_type": "stream",
     "text": [
      "Training Progress:  19%|█▉        | 29/150 [00:01<00:05, 20.32it/s, Train Loss=1.27, Val Loss=0.998, Train Acc=0.539, Val Acc=0.662]"
     ]
    },
    {
     "name": "stdout",
     "output_type": "stream",
     "text": [
      "Best val acc 0.672 at epoch 24\n"
     ]
    },
    {
     "name": "stderr",
     "output_type": "stream",
     "text": [
      "Training Progress:  21%|██▏       | 32/150 [00:01<00:06, 18.85it/s, Train Loss=1.25, Val Loss=0.978, Train Acc=0.545, Val Acc=0.676]"
     ]
    },
    {
     "name": "stdout",
     "output_type": "stream",
     "text": [
      "Best val acc 0.680 at epoch 29\n"
     ]
    },
    {
     "name": "stderr",
     "output_type": "stream",
     "text": [
      "Training Progress:  25%|██▌       | 38/150 [00:02<00:05, 19.28it/s, Train Loss=1.25, Val Loss=0.969, Train Acc=0.538, Val Acc=0.68] "
     ]
    },
    {
     "name": "stdout",
     "output_type": "stream",
     "text": [
      "Best val acc 0.683 at epoch 34\n"
     ]
    },
    {
     "name": "stderr",
     "output_type": "stream",
     "text": [
      "Training Progress:  27%|██▋       | 41/150 [00:02<00:05, 20.22it/s, Train Loss=1.26, Val Loss=0.962, Train Acc=0.54, Val Acc=0.685] "
     ]
    },
    {
     "name": "stdout",
     "output_type": "stream",
     "text": [
      "Best val acc 0.685 at epoch 38\n",
      "Best val acc 0.689 at epoch 39\n"
     ]
    },
    {
     "name": "stderr",
     "output_type": "stream",
     "text": [
      "Training Progress:  33%|███▎      | 50/150 [00:02<00:05, 19.68it/s, Train Loss=1.25, Val Loss=0.946, Train Acc=0.553, Val Acc=0.717]"
     ]
    },
    {
     "name": "stdout",
     "output_type": "stream",
     "text": [
      "Best val acc 0.705 at epoch 47\n",
      "Best val acc 0.713 at epoch 48\n",
      "Best val acc 0.713 at epoch 49\n",
      "Best val acc 0.717 at epoch 50\n"
     ]
    },
    {
     "name": "stderr",
     "output_type": "stream",
     "text": [
      "Training Progress:  37%|███▋      | 56/150 [00:02<00:04, 19.56it/s, Train Loss=1.24, Val Loss=0.93, Train Acc=0.557, Val Acc=0.715] "
     ]
    },
    {
     "name": "stdout",
     "output_type": "stream",
     "text": [
      "Best val acc 0.721 at epoch 52\n"
     ]
    },
    {
     "name": "stderr",
     "output_type": "stream",
     "text": [
      "Training Progress:  39%|███▉      | 59/150 [00:03<00:04, 20.45it/s, Train Loss=1.24, Val Loss=0.96, Train Acc=0.553, Val Acc=0.726] "
     ]
    },
    {
     "name": "stdout",
     "output_type": "stream",
     "text": [
      "Best val acc 0.723 at epoch 56\n",
      "Best val acc 0.724 at epoch 57\n",
      "Best val acc 0.726 at epoch 58\n",
      "Best val acc 0.726 at epoch 59\n"
     ]
    },
    {
     "name": "stderr",
     "output_type": "stream",
     "text": [
      "Training Progress:  45%|████▌     | 68/150 [00:03<00:04, 19.82it/s, Train Loss=1.25, Val Loss=0.914, Train Acc=0.557, Val Acc=0.726]"
     ]
    },
    {
     "name": "stdout",
     "output_type": "stream",
     "text": [
      "Best val acc 0.729 at epoch 65\n"
     ]
    },
    {
     "name": "stderr",
     "output_type": "stream",
     "text": [
      "Training Progress:  53%|█████▎    | 80/150 [00:04<00:03, 19.94it/s, Train Loss=1.23, Val Loss=0.92, Train Acc=0.557, Val Acc=0.721] "
     ]
    },
    {
     "name": "stdout",
     "output_type": "stream",
     "text": [
      "Best val acc 0.732 at epoch 76\n"
     ]
    },
    {
     "name": "stderr",
     "output_type": "stream",
     "text": [
      "Training Progress:  61%|██████▏   | 92/150 [00:04<00:02, 20.19it/s, Train Loss=1.24, Val Loss=0.926, Train Acc=0.552, Val Acc=0.729]"
     ]
    },
    {
     "name": "stdout",
     "output_type": "stream",
     "text": [
      "Best val acc 0.735 at epoch 88\n"
     ]
    },
    {
     "name": "stderr",
     "output_type": "stream",
     "text": [
      "Training Progress: 100%|██████████| 150/150 [00:07<00:00, 19.90it/s, Train Loss=1.22, Val Loss=0.918, Train Acc=0.562, Val Acc=0.728]\n"
     ]
    }
   ],
   "source": [
    "import torch.optim as optim\n",
    "\n",
    "# Assuming you have already defined your neural network model and loss function\n",
    "# network = YourNeuralNetwork()\n",
    "# loss_fn = YourLossFunction()\n",
    "\n",
    "# Define learning rate\n",
    "learning_rate = 0.01\n",
    "batch_size = 1024\n",
    "\n",
    "# Define network\n",
    "red1 = Red(hidden_dim=[4], dropout=0.25)\n",
    "\n",
    "# Create Adam optimizer\n",
    "# optimizer = optim.SGD(red1.parameters(), lr=learning_rate, momentum =0.9)\n",
    "optimizer = optim.Adam(red1.parameters(), lr=learning_rate)\n",
    "loss_fn = nn.CrossEntropyLoss()\n",
    "\n",
    "\n",
    "num_epochs = 150\n",
    "train_dataloader = DataLoader(\n",
    "    train_dataset, batch_size=batch_size, shuffle=True)\n",
    "val_dataloader = DataLoader(val_dataset, batch_size=batch_size, shuffle=False)\n",
    "\n",
    "\n",
    "train_losses, val_losses, train_acc, val_acc = train(\n",
    "    red1, loss_fn, train_dataloader, val_dataloader, optimizer, num_epochs, device='cpu')"
   ]
  },
  {
   "cell_type": "code",
   "execution_count": 18,
   "id": "a6db0c22-753c-4031-882c-ac00861e4611",
   "metadata": {},
   "outputs": [
    {
     "data": {
      "text/plain": [
       "Text(0, 0.5, 'Loss')"
      ]
     },
     "execution_count": 18,
     "metadata": {},
     "output_type": "execute_result"
    },
    {
     "data": {
      "image/png": "[encoded data removed]",
      "text/plain": [
       "<Figure size 640x480 with 1 Axes>"
      ]
     },
     "metadata": {},
     "output_type": "display_data"
    }
   ],
   "source": [
    "plt.plot(train_losses, label='train loss')\n",
    "plt.plot(val_losses, label='val_loss')\n",
    "plt.legend()\n",
    "plt.xlabel('epoch')\n",
    "plt.ylabel('Loss')"
   ]
  },
  {
   "cell_type": "code",
   "execution_count": 19,
   "id": "06b54a21-ef00-46ed-858c-c1a2a3eccae7",
   "metadata": {},
   "outputs": [
    {
     "data": {
      "text/plain": [
       "Text(0, 0.5, 'Accuracy')"
      ]
     },
     "execution_count": 19,
     "metadata": {},
     "output_type": "execute_result"
    },
    {
     "data": {
      "image/png": "[encoded data removed]",
      "text/plain": [
       "<Figure size 640x480 with 1 Axes>"
      ]
     },
     "metadata": {},
     "output_type": "display_data"
    }
   ],
   "source": [
    "plt.plot(train_acc, label='train_acc')\n",
    "plt.plot(val_acc, label='val acc')\n",
    "plt.xlabel('epoch')\n",
    "plt.ylabel('Accuracy')"
   ]
  },
  {
   "cell_type": "code",
   "execution_count": null,
   "id": "49cb79a0-fd07-459c-abcb-8da64353e098",
   "metadata": {},
   "outputs": [],
   "source": []
  }
 ],
 "metadata": {
  "kernelspec": {
   "display_name": "Python 3 (ipykernel)",
   "language": "python",
   "name": "python3"
  },
  "language_info": {
   "codemirror_mode": {
    "name": "ipython",
    "version": 3
   },
   "file_extension": ".py",
   "mimetype": "text/x-python",
   "name": "python",
   "nbconvert_exporter": "python",
   "pygments_lexer": "ipython3",
   "version": "3.12.2"
  }
 },
 "nbformat": 4,
 "nbformat_minor": 5
}

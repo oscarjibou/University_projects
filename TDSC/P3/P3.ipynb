{
 "cells": [
  {
   "cell_type": "markdown",
   "metadata": {
    "vscode": {
     "languageId": "plaintext"
    }
   },
   "source": [
    "Lectura de la señal, cuantificación y codificación PCM (codPCM)"
   ]
  },
  {
   "cell_type": "code",
   "execution_count": 6,
   "metadata": {},
   "outputs": [],
   "source": [
    "import numpy as np\n",
    "import struct\n",
    "import soundfile as sf\n",
    "\n",
    "# audio, fs = sf.read(\"../data/clarinete.wav\")\n",
    "# plt.plot(audio)\n",
    "\n",
    "\n",
    "def codPCM(x, R, fi):\n",
    "    \"\"\"\n",
    "    Codifica la señal x (numpy array float64 en [-1,1]) con cuantización uniforme de R bits\n",
    "    y genera un fichero binario (fi) que contiene:\n",
    "       - R (1 byte)\n",
    "       - N (4 bytes, uint32)\n",
    "       - k'[n] (N valores enteros sin signo)\n",
    "         (donde k'[n] = k[n] + 2^(R-1) )\n",
    "    \"\"\"\n",
    "    # Verificaciones básicas\n",
    "    if R < 1 or R > 15:\n",
    "        raise ValueError(\"R debe estar en [1..15].\")\n",
    "    if not isinstance(x, np.ndarray):\n",
    "        raise ValueError(\"x debe ser un numpy array.\")\n",
    "\n",
    "    # 1) Número de muestras\n",
    "    N = x.size\n",
    "\n",
    "    # 2) Paso de cuantización\n",
    "    Delta = 2.0 ** (1 - R)  # = 2^(1-R)\n",
    "\n",
    "    # 3) Cuantización\n",
    "    #   k = floor(x / Delta)\n",
    "    k = np.floor(x / Delta)\n",
    "    #   Aseguramos que sea int (aunque floor ya devuelve float con parte decimal 0)\n",
    "    k = k.astype(np.int32)  # k en [-2^(R-1), 2^(R-1)-1]\n",
    "\n",
    "    # 4) Convertimos a k' = k + 2^(R-1)  (sin signo)\n",
    "    offset = 2 ** (R - 1)\n",
    "    kprime = k + offset  # en [0, 2^R - 1]\n",
    "\n",
    "    # En el peor caso R=15 => 2^15-1 = 32767 => cabe en uint16\n",
    "    # Convertimos a uint16 para guardar\n",
    "    kprime_uint16 = kprime.astype(np.uint16)\n",
    "\n",
    "    with open(fi, \"wb\") as f:\n",
    "        # Escribimos R en 1 byte\n",
    "        f.write(struct.pack(\"B\", R))\n",
    "\n",
    "        # Escribimos N en 4 bytes (uint32, little-endian)\n",
    "        f.write(struct.pack(\"<I\", N))\n",
    "\n",
    "        # Escribimos k'[n] (N valores) en formato \"uint16\" (2 bytes c/u, little-endian)\n",
    "        # Podemos usar tobytes() (NumPy >= 1.9) o tofile():\n",
    "        f.write(kprime_uint16.tobytes())\n",
    "\n",
    "    print(f\"[codPCM] Fichero '{fi}' escrito con {N} muestras y R={R} bits.\")"
   ]
  },
  {
   "cell_type": "markdown",
   "metadata": {},
   "source": [
    "Decodificador PCM (decPCM)\n"
   ]
  },
  {
   "cell_type": "code",
   "execution_count": 7,
   "metadata": {},
   "outputs": [],
   "source": [
    "def decPCM(fi):\n",
    "    \"\"\"\n",
    "    Lee el fichero binario fi (generado por codPCM) y reconstruye la señal y (np.float64).\n",
    "    Retorna (y, R).\n",
    "    \"\"\"\n",
    "    with open(fi, \"rb\") as f:\n",
    "        # 1) Leer R (1 byte)\n",
    "        R_data = f.read(1)\n",
    "        R = struct.unpack(\"B\", R_data)[0]\n",
    "\n",
    "        # 2) Leer N (4 bytes, uint32)\n",
    "        N_data = f.read(4)\n",
    "        N = struct.unpack(\"<I\", N_data)[0]\n",
    "\n",
    "        # 3) Leer N valores uint16\n",
    "        #   Cada valor = k'[n]\n",
    "        kprime_data = f.read(2 * N)  # 2 bytes por muestra\n",
    "        kprime_arr = np.frombuffer(kprime_data, dtype=np.uint16)\n",
    "\n",
    "    # 4) k[n] = k'[n] - 2^(R-1)\n",
    "    offset = 2 ** (R - 1)\n",
    "    k_arr = kprime_arr.astype(np.int32) - offset\n",
    "\n",
    "    # 5) y[n] = k[n] * 2^(1-R)\n",
    "    Delta = 2.0 ** (1 - R)\n",
    "    y = k_arr.astype(np.float64) * Delta\n",
    "\n",
    "    print(f\"[decPCM] Fichero '{fi}' leído. R={R}, N={N}.\")\n",
    "    return y, R"
   ]
  },
  {
   "cell_type": "markdown",
   "metadata": {},
   "source": [
    "Ejemplo de uso completo"
   ]
  },
  {
   "cell_type": "code",
   "execution_count": 8,
   "metadata": {},
   "outputs": [
    {
     "name": "stdout",
     "output_type": "stream",
     "text": [
      "Leídos 32613 samples, fs=8000 Hz\n",
      "[codPCM] Fichero 'vt1_pcm.bin' escrito con 32613 muestras y R=13 bits.\n",
      "[decPCM] Fichero 'vt1_pcm.bin' leído. R=13, N=32613.\n",
      "Error cuadrático medio (MSE) = 1.623271e-08\n",
      "Reproduciendo señal original...\n",
      "Reproduciendo señal decodificada...\n",
      "Fin del ejemplo.\n"
     ]
    }
   ],
   "source": [
    "import soundfile as sf\n",
    "import sounddevice as sd\n",
    "\n",
    "\n",
    "def ejemplo_PCM():\n",
    "    # 1) Leer vt1.wav\n",
    "    x, fs = sf.read(\"../data/vt1.wav\")  # x ~ señal en [-1,1]\n",
    "    print(f\"Leídos {len(x)} samples, fs={fs} Hz\")\n",
    "\n",
    "    # 2) Elegir R\n",
    "    R = 13\n",
    "    # 3) Codificar\n",
    "    codPCM(x, R, \"vt1_pcm.bin\")\n",
    "\n",
    "    # 4) Decodificar\n",
    "    y, R_leido = decPCM(\"vt1_pcm.bin\")\n",
    "\n",
    "    # 5) Calcular error RMS o MSE\n",
    "    mse = np.mean((x - y) ** 2)\n",
    "    print(f\"Error cuadrático medio (MSE) = {mse:.6e}\")\n",
    "\n",
    "    # 6) Reproducir original\n",
    "    print(\"Reproduciendo señal original...\")\n",
    "    sd.play(x, fs)\n",
    "    sd.wait()\n",
    "\n",
    "    # 7) Reproducir señal decodificada\n",
    "    print(\"Reproduciendo señal decodificada...\")\n",
    "    sd.play(y, fs)\n",
    "    sd.wait()\n",
    "\n",
    "    # Observa si hay diferencia audible\n",
    "    print(\"Fin del ejemplo.\")\n",
    "\n",
    "\n",
    "ejemplo_PCM()"
   ]
  }
 ],
 "metadata": {
  "kernelspec": {
   "display_name": ".venv",
   "language": "python",
   "name": "python3"
  },
  "language_info": {
   "codemirror_mode": {
    "name": "ipython",
    "version": 3
   },
   "file_extension": ".py",
   "mimetype": "text/x-python",
   "name": "python",
   "nbconvert_exporter": "python",
   "pygments_lexer": "ipython3",
   "version": "3.13.0"
  }
 },
 "nbformat": 4,
 "nbformat_minor": 2
}

{
 "cells": [
  {
   "cell_type": "markdown",
   "metadata": {},
   "source": [
    "Lectura y expansión de la señal x[n]"
   ]
  },
  {
   "cell_type": "code",
   "execution_count": 3,
   "metadata": {},
   "outputs": [],
   "source": [
    "import numpy as np\n",
    "import soundfile as sf\n",
    "from scipy.fft import dct, idct\n",
    "\n",
    "\n",
    "def leer_y_expandir(wavfile, N=64):\n",
    "    \"\"\"\n",
    "    Lee el WAV, retorna (xE, fs).\n",
    "    xE es la señal expandida, su longitud es múltiplo de N.\n",
    "    \"\"\"\n",
    "    x, fs = sf.read(wavfile)  # x en range [-1,1] si es float\n",
    "    # Si es estéreo, tomar un canal o mezclar (a elección):\n",
    "    if x.ndim > 1:\n",
    "        x = x[:, 0]  # Tomamos canal izquierdo, por ejemplo\n",
    "\n",
    "    L = len(x)\n",
    "    # Calculamos número de ceros para completar múltiplo de N:\n",
    "    resto = L % N\n",
    "    if resto == 0:\n",
    "        xE = x\n",
    "    else:\n",
    "        ceros = np.zeros(N - resto, dtype=x.dtype)\n",
    "        xE = np.concatenate((x, ceros))\n",
    "\n",
    "    return xE, fs"
   ]
  },
  {
   "cell_type": "markdown",
   "metadata": {},
   "source": [
    "Cálculo vectorizado de DCT por bloques"
   ]
  },
  {
   "cell_type": "code",
   "execution_count": 4,
   "metadata": {},
   "outputs": [],
   "source": [
    "def dct_bloques(xE, N=64):\n",
    "    \"\"\"\n",
    "    xE es un array 1D de longitud multiple de N.\n",
    "    Retorna una matriz C de forma (N, Nb),\n",
    "    donde Nb = numero de bloques = len(xE)/N,\n",
    "    y C[:,b] es la DCT( xE[b*N : b*N+N] ).\n",
    "    \"\"\"\n",
    "    # Reformar\n",
    "    xE_2d = xE.reshape(-1, N).T  # Tamaño (N, Nb) si reshape(-1,N)\n",
    "    # Calculamos la DCT a lo largo de la dimensión 0 (cada columna un bloque)\n",
    "    # Por convención, la DCT de scipy actúa a lo largo del eje=0 si no se especifica:\n",
    "    #   dct(x, axis=0) => transformada por filas,\n",
    "    # pero ahora nuestras \"filas\" son en realidad muestras del bloque,\n",
    "    # y nuestras \"columnas\" son distintos bloques.\n",
    "    C = dct(xE_2d, axis=0, norm=\"ortho\")\n",
    "    return C"
   ]
  },
  {
   "cell_type": "code",
   "execution_count": 5,
   "metadata": {},
   "outputs": [],
   "source": [
    "def idct_bloques(C):\n",
    "    \"\"\"\n",
    "    Recibe la matriz C (N, Nb),\n",
    "    donde cada columna es la DCT de un bloque de N muestras.\n",
    "    Retorna un vector yE con la reconstrucción por IDCT (concatenada).\n",
    "    \"\"\"\n",
    "    # IDCT por columnas\n",
    "    X_2d = idct(C, axis=0, norm=\"ortho\")\n",
    "    # X_2d es (N, Nb). Lo transponemos e \"aplanamos\"\n",
    "    X_1d = X_2d.T.reshape(-1)\n",
    "    return X_1d"
   ]
  },
  {
   "cell_type": "markdown",
   "metadata": {},
   "source": [
    "Cálculo de la compacción (ganancia G)"
   ]
  },
  {
   "cell_type": "code",
   "execution_count": 6,
   "metadata": {},
   "outputs": [
    {
     "ename": "NameError",
     "evalue": "name 'X_blocks' is not defined",
     "output_type": "error",
     "traceback": [
      "\u001b[0;31m---------------------------------------------------------------------------\u001b[0m",
      "\u001b[0;31mNameError\u001b[0m                                 Traceback (most recent call last)",
      "Cell \u001b[0;32mIn[6], line 3\u001b[0m\n\u001b[1;32m      1\u001b[0m \u001b[38;5;66;03m# X_blocks es (N, Nb):\u001b[39;00m\n\u001b[1;32m      2\u001b[0m \u001b[38;5;66;03m#  la fila i corresponde a \"todas las realizaciones de la variable aleatoria X_i\"\u001b[39;00m\n\u001b[0;32m----> 3\u001b[0m vars_X \u001b[38;5;241m=\u001b[39m np\u001b[38;5;241m.\u001b[39mvar(\u001b[43mX_blocks\u001b[49m, axis\u001b[38;5;241m=\u001b[39m\u001b[38;5;241m1\u001b[39m, ddof\u001b[38;5;241m=\u001b[39m\u001b[38;5;241m1\u001b[39m)  \u001b[38;5;66;03m# ddof=1 => var muestral\u001b[39;00m\n\u001b[1;32m      5\u001b[0m vars_C \u001b[38;5;241m=\u001b[39m np\u001b[38;5;241m.\u001b[39mvar(C_blocks, axis\u001b[38;5;241m=\u001b[39m\u001b[38;5;241m1\u001b[39m, ddof\u001b[38;5;241m=\u001b[39m\u001b[38;5;241m1\u001b[39m)\n\u001b[1;32m      8\u001b[0m \u001b[38;5;28;01mdef\u001b[39;00m \u001b[38;5;21mganancia_compaccion\u001b[39m(vars_array):\n\u001b[1;32m      9\u001b[0m     \u001b[38;5;66;03m# media aritmética\u001b[39;00m\n",
      "\u001b[0;31mNameError\u001b[0m: name 'X_blocks' is not defined"
     ]
    }
   ],
   "source": [
    "# X_blocks es (N, Nb):\n",
    "#  la fila i corresponde a \"todas las realizaciones de la variable aleatoria X_i\"\n",
    "vars_X = np.var(X_blocks, axis=1, ddof=1)  # ddof=1 => var muestral\n",
    "\n",
    "vars_C = np.var(C_blocks, axis=1, ddof=1)\n",
    "\n",
    "\n",
    "def ganancia_compaccion(vars_array):\n",
    "    # media aritmética\n",
    "    ma = np.mean(vars_array)\n",
    "    # media geométrica\n",
    "    # Evitamos problemas con log(0).\n",
    "    # Podríamos ignorar coeficientes con var=0 o poner un epsilon\n",
    "    vars_pos = np.clip(vars_array, 1e-15, None)\n",
    "    mg = np.exp(np.mean(np.log(vars_pos)))\n",
    "    return ma / mg\n",
    "\n",
    "\n",
    "def calcular_ganancias(X_blocks, C_blocks):\n",
    "    vars_X = np.var(X_blocks, axis=1, ddof=1)\n",
    "    vars_C = np.var(C_blocks, axis=1, ddof=1)\n",
    "    GX = ganancia_compaccion(vars_X)\n",
    "    GC = ganancia_compaccion(vars_C)\n",
    "    return GX, GC"
   ]
  },
  {
   "cell_type": "markdown",
   "metadata": {},
   "source": [
    "Filtrado de altas frecuencias"
   ]
  },
  {
   "cell_type": "code",
   "execution_count": 7,
   "metadata": {},
   "outputs": [],
   "source": [
    "def filtrar_altas_freq(C, M):\n",
    "    \"\"\"\n",
    "    Pone a cero los coeficientes de indice >= M en cada columna.\n",
    "    C es (N, Nb).\n",
    "    Retorna la matriz Cfiltrada (mismo shape).\n",
    "    \"\"\"\n",
    "    C_filtr = C.copy()\n",
    "    C_filtr[M:, :] = 0\n",
    "    return C_filtr\n",
    "\n",
    "\n",
    "def practica5_ejemplo(wavfile=\"v1.wav\", N=64, M=32):\n",
    "    \"\"\"\n",
    "    1) Lee v1.wav (mono), expande a multiplo de N.\n",
    "    2) Forma una matriz (N x Nb) con xE.\n",
    "    3) Calcula la DCT(64) de todos los bloques (matriz C).\n",
    "    4) Calcula la ganancia en X y en C (compacción).\n",
    "    5) Elimina (pone a 0) los coeficientes con indice >= M.\n",
    "    6) IDCT para recuperar yE.\n",
    "    7) Recorta ceros y escucha la señal final.\n",
    "    8) Muestra la relacion señal-a-ruido o el espectro, etc.\n",
    "    \"\"\"\n",
    "    import matplotlib.pyplot as plt\n",
    "\n",
    "    # 1) Leer y expandir\n",
    "    xE, fs = leer_y_expandir(wavfile, N)\n",
    "    L_original = len(\n",
    "        sf.read(wavfile)[0]\n",
    "    )  # para saber cuantas muestras tenía sin expandir\n",
    "\n",
    "    # 2) Matriz X_blocks = (N, Nb)\n",
    "    X_blocks = xE.reshape(-1, N).T  # (N, Nb)\n",
    "\n",
    "    # 3) DCT\n",
    "    C_blocks = dct(X_blocks, axis=0, norm=\"ortho\")  # (N, Nb)\n",
    "\n",
    "    # 4) Ganancias\n",
    "    GX, GC = calcular_ganancias(X_blocks, C_blocks)\n",
    "    print(f\"Ganancia en X = {GX:.4f}, Ganancia en C = {GC:.4f}\")\n",
    "\n",
    "    # 5) Filtrar altas freq\n",
    "    C_filtr = filtrar_altas_freq(C_blocks, M)\n",
    "\n",
    "    # 6) IDCT\n",
    "    yE_2d = idct(C_filtr, axis=0, norm=\"ortho\")  # (N, Nb)\n",
    "    yE = yE_2d.T.reshape(-1)\n",
    "\n",
    "    # Recortar ceros al final\n",
    "    y = yE[:L_original]\n",
    "\n",
    "    # 7) Escuchar (si deseas)\n",
    "    import sounddevice as sd\n",
    "\n",
    "    print(\"Reproduciendo señal filtrada...\")\n",
    "    sd.play(y, fs)\n",
    "    sd.wait()\n",
    "\n",
    "    # 8) Métrica SNR:\n",
    "    #   Tomar x (original) y la parte final y (podríamos re-leer x,\n",
    "    #   pues xE ya pudo tener ceros finales).\n",
    "    x, _ = sf.read(wavfile)\n",
    "    if x.ndim > 1:\n",
    "        x = x[:, 0]\n",
    "    # Alineamos longitudes\n",
    "    L = min(len(x), len(y))\n",
    "    x = x[:L]\n",
    "    y = y[:L]\n",
    "\n",
    "    error = x - y\n",
    "    energia_signal = np.sum(x**2)\n",
    "    energia_error = np.sum(error**2)\n",
    "    if energia_error < 1e-15:\n",
    "        snr_db = 999.0\n",
    "    else:\n",
    "        snr_db = 10 * np.log10(energia_signal / energia_error)\n",
    "\n",
    "    print(f\"SNR(dB) = {snr_db:.2f}\")\n",
    "\n",
    "    # 9) Visualizar\n",
    "    plt.figure()\n",
    "    plt.subplot(2, 1, 1)\n",
    "    plt.plot(x, label=\"Original\")\n",
    "    plt.title(\"Señal original\")\n",
    "    plt.subplot(2, 1, 2)\n",
    "    plt.plot(y, color=\"r\", label=\"Filtrada\")\n",
    "    plt.title(f\"Señal tras filtrar DCT (M={M}) => SNR={snr_db:.2f} dB\")\n",
    "    plt.tight_layout()\n",
    "    plt.show()"
   ]
  }
 ],
 "metadata": {
  "kernelspec": {
   "display_name": ".venv",
   "language": "python",
   "name": "python3"
  },
  "language_info": {
   "codemirror_mode": {
    "name": "ipython",
    "version": 3
   },
   "file_extension": ".py",
   "mimetype": "text/x-python",
   "name": "python",
   "nbconvert_exporter": "python",
   "pygments_lexer": "ipython3",
   "version": "3.13.0"
  }
 },
 "nbformat": 4,
 "nbformat_minor": 2
}

{
 "cells": [
  {
   "cell_type": "code",
   "execution_count": null,
   "metadata": {},
   "outputs": [],
   "source": [
    "import simpleaudio as sa\n",
    "import numpy as np\n",
    "import matplotlib.pyplot as plt\n",
    "from scipy.io import wavfile\n",
    "from scipy.signal import find_peaks"
   ]
  },
  {
   "cell_type": "code",
   "execution_count": null,
   "metadata": {},
   "outputs": [],
   "source": [
    "archivo_wav1 = 'sound1.wav'\n",
    "archivo_wav2 = 'sound2.wav'\n",
    "archivo_wav3 = 'sound3.wav'\n",
    "archivo_wav4 = 'sound4.wav'\n",
    "archivo_wav5 = 'sound5.wav' "
   ]
  },
  {
   "cell_type": "markdown",
   "metadata": {},
   "source": [
    "### Reproducimos el audio "
   ]
  },
  {
   "cell_type": "code",
   "execution_count": null,
   "metadata": {},
   "outputs": [],
   "source": [
    "# Load a wave file and play it\n",
    "wave_obj = sa.WaveObject.from_wave_file(archivo_wav1)\n",
    "play_obj = wave_obj.play()\n",
    "play_obj.wait_done()\n"
   ]
  },
  {
   "cell_type": "markdown",
   "metadata": {},
   "source": [
    "### Representamos el wave file en tiempo continuo y discreto"
   ]
  },
  {
   "cell_type": "code",
   "execution_count": null,
   "metadata": {},
   "outputs": [],
   "source": [
    "# List of audio files\n",
    "audio_files = [archivo_wav1, archivo_wav2, archivo_wav3, archivo_wav4, archivo_wav5]\n",
    "\n",
    "# Loop through each audio file\n",
    "for archivo_wav in audio_files:\n",
    "    # Load the wave file\n",
    "    frecuencia_muestreo, datos = wavfile.read(archivo_wav)\n",
    "\n",
    "    # The time vector\n",
    "    tiempo = np.arange(0, len(datos)) \n",
    "    \n",
    "    print(f'plot the wave {archivo_wav}')\n",
    "    \n",
    "    print('In continuous time')\n",
    "\n",
    "    # In continuous time\n",
    "    plt.figure(figsize=(12,6))\n",
    "    plt.plot(tiempo, datos)\n",
    "    plt.title('Señal de audio en tiempo continuo - {}'.format(archivo_wav))\n",
    "    plt.xlabel('Tiempo [s]')\n",
    "    plt.ylabel('Amplitud')\n",
    "    plt.show()\n",
    "\n",
    "    print('In discrete time')\n",
    "    \n",
    "    # In discrete time\n",
    "    plt.figure(figsize=(12, 6))\n",
    "    plt.stem(tiempo, datos)\n",
    "    plt.title('Señal de audio en tiempo discreto - {}'.format(archivo_wav))\n",
    "    plt.xlabel('Tiempo [s]')\n",
    "    plt.ylabel('Amplitud')\n",
    "    plt.show()\n",
    "    \n",
    "    print(\"-----------------------------\")\n",
    "    \n"
   ]
  },
  {
   "cell_type": "markdown",
   "metadata": {},
   "source": [
    "### Ejercicio 1.2\n",
    "\n",
    "Para los sonidos 1,2,3. Crea un vector que contenga un tramo de\n",
    "100ms de la señal correspondiente en donde aparezca sonido"
   ]
  },
  {
   "cell_type": "code",
   "execution_count": null,
   "metadata": {},
   "outputs": [],
   "source": [
    "# List of audio files\n",
    "audio_files_only_three = [archivo_wav1, archivo_wav2, archivo_wav3]\n",
    "\n",
    "\n",
    "for archivo_wav in audio_files_only_three:\n",
    "    # Get the sample rate and data\n",
    "    frecuencia_muestreo, datos = wavfile.read(archivo_wav)\n",
    "\n",
    "    # Calculate how many samples are in 100ms\n",
    "    num_samples = int(frecuencia_muestreo * 0.1)\n",
    "\n",
    "    # Create the frame vector\n",
    "    frame = datos[:num_samples]\n",
    "    \n",
    "    print(f'Plot the frame {archivo_wav}')\n",
    "    \n",
    "    '''\n",
    "    Para sacar las frecuencia fundamental hacemos la transformada de fourier de la señal y buscamos el valor maximo de la amplitud\n",
    "    '''\n",
    "\n",
    "    #fourier transform\n",
    "    fourier = np.fft.fft(frame)\n",
    "    n = len(frame)\n",
    "    fourier = fourier[0:int(n/2)]\n",
    "    fourier = fourier / float(n)\n",
    "    frecuencia = np.fft.fftfreq(n, d=1.0/frecuencia_muestreo)\n",
    "    frecuencia = frecuencia[0:int(n/2)]\n",
    "    # plt.figure(figsize=(12, 6))\n",
    "    # plt.plot(frecuencia, np.abs(fourier))\n",
    "    # plt.title('Fourier transform of the frame - {}'.format(archivo_wav)) \n",
    "    # plt.xlabel('Frecuencia [Hz]')\n",
    "    # plt.ylabel('Amplitud')\n",
    "    # plt.show()\n",
    "    \n",
    "    #print the frecuency value when the amplitude is the highest\n",
    "    max_value = np.max(np.abs(fourier))\n",
    "    max_index = np.where(np.abs(fourier) == max_value)\n",
    "    print(f'\\nfrecuencia fundamental es: {frecuencia[max_index]}') \n",
    "    \n",
    "    \n",
    "    # Plot the frame\n",
    "    plt.figure(figsize=(12, 6))\n",
    "    plt.plot(frame)\n",
    "    plt.title('Frame de 100ms - {}'.format(archivo_wav))\n",
    "    plt.xlabel('Muestras')\n",
    "    plt.ylabel('Amplitud')\n",
    "    plt.show()\n",
    "    \n",
    "    print(\"-----------------------------\")\n"
   ]
  },
  {
   "cell_type": "markdown",
   "metadata": {},
   "source": [
    "Para sacar las frecuencia fundamental hacemos la transformada de fourier de la señal y buscamos el valor maximo de la amplitud. Lo haremos del archivo_wav2 y archivo_wav3 "
   ]
  },
  {
   "cell_type": "code",
   "execution_count": null,
   "metadata": {},
   "outputs": [],
   "source": [
    "# List of audio files\n",
    "audio_files_only_three = [archivo_wav2, archivo_wav3]\n",
    "\n",
    "\n",
    "for archivo_wav in audio_files_only_three:\n",
    "    # Get the sample rate and data\n",
    "    frecuencia_muestreo, datos = wavfile.read(archivo_wav)\n",
    "\n",
    "    # Calculate how many samples are in 100ms\n",
    "    num_samples = int(frecuencia_muestreo * 0.1)\n",
    "\n",
    "    # Create the frame vector\n",
    "    frame = datos[:num_samples]\n",
    "    \n",
    "    print(f'Plot fourier frame {archivo_wav}')\n",
    "    \n",
    "    '''\n",
    "    Para sacar las frecuencia fundamental hacemos la transformada de fourier de la señal y buscamos el valor maximo de la amplitud\n",
    "    '''\n",
    "\n",
    "    #fourier transform\n",
    "    fourier = np.fft.fft(frame)\n",
    "    n = len(frame)\n",
    "    fourier = fourier[0:int(n/2)]\n",
    "    fourier = fourier / float(n)\n",
    "    frecuencia = np.fft.fftfreq(n, d=1.0/frecuencia_muestreo)\n",
    "    frecuencia = frecuencia[0:int(n/2)]\n",
    "    plt.figure(figsize=(12, 6))\n",
    "    plt.plot(frecuencia, np.abs(fourier))\n",
    "    plt.title('Fourier transform of the frame - {}'.format(archivo_wav)) \n",
    "    plt.xlabel('Frecuencia [Hz]')\n",
    "    plt.ylabel('Amplitud')\n",
    "    \n",
    "    #print the frecuency value when the amplitude is the highest\n",
    "    max_value = np.max(np.abs(fourier))\n",
    "    max_index = np.where(np.abs(fourier) == max_value)\n",
    "    print(f'\\n * frecuencia fundamental es: {frecuencia[max_index]}') \n",
    "    \n",
    "    # Period\n",
    "    period = 1 / frecuencia[max_index]\n",
    "    print(f' * periodo es: {period}')\n",
    "    \n",
    "    #power\n",
    "    power = 1/len(datos) * np.sum(np.abs(datos)**2)\n",
    "    print(f' * potencia es: {power}')\n",
    "    \n",
    "    #energy\n",
    "    energy = np.sum(np.abs(datos)**2)\n",
    "    print(f' * energia es: {energy}')\n",
    "    \n",
    "    plt.show()\n",
    "    \n",
    "    print(\"-----------------------------\")\n"
   ]
  },
  {
   "cell_type": "markdown",
   "metadata": {},
   "source": [
    "### Ejercicio 1.3 "
   ]
  },
  {
   "cell_type": "code",
   "execution_count": null,
   "metadata": {},
   "outputs": [],
   "source": []
  }
 ],
 "metadata": {
  "kernelspec": {
   "display_name": "venv",
   "language": "python",
   "name": "python3"
  },
  "language_info": {
   "codemirror_mode": {
    "name": "ipython",
    "version": 3
   },
   "file_extension": ".py",
   "mimetype": "text/x-python",
   "name": "python",
   "nbconvert_exporter": "python",
   "pygments_lexer": "ipython3",
   "version": "3.9.6"
  }
 },
 "nbformat": 4,
 "nbformat_minor": 2
}
